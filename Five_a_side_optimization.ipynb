{
  "nbformat": 4,
  "nbformat_minor": 0,
  "metadata": {
    "colab": {
      "name": "Five-a-side_optimization",
      "provenance": [],
      "authorship_tag": "ABX9TyMSjufcK9Uk681x4Wty7uJX",
      "include_colab_link": true
    },
    "kernelspec": {
      "name": "python3",
      "display_name": "Python 3"
    },
    "language_info": {
      "name": "python"
    }
  },
  "cells": [
    {
      "cell_type": "markdown",
      "metadata": {
        "id": "view-in-github",
        "colab_type": "text"
      },
      "source": [
        "<a href=\"https://colab.research.google.com/github/alibekk93/5-a-side-optimisation/blob/master/Five_a_side_optimization.ipynb\" target=\"_parent\"><img src=\"https://colab.research.google.com/assets/colab-badge.svg\" alt=\"Open In Colab\"/></a>"
      ]
    },
    {
      "cell_type": "markdown",
      "source": [
        "# Setup"
      ],
      "metadata": {
        "id": "VKICrvV3TjXd"
      }
    },
    {
      "cell_type": "markdown",
      "source": [
        "## Download and unzip data"
      ],
      "metadata": {
        "id": "4rbTWB-vyZIz"
      }
    },
    {
      "cell_type": "code",
      "source": [
        "!pip install kaggle\n",
        "!mkdir ~/.kaggle\n",
        "!cp kaggle.json ~/.kaggle/\n",
        "!chmod 600 ~/.kaggle/kaggle.json\n",
        "!kaggle datasets download -d stefanoleone992/fifa-22-complete-player-dataset -f players_22.csv\n",
        "!unzip players_22.csv.zip"
      ],
      "metadata": {
        "colab": {
          "base_uri": "https://localhost:8080/"
        },
        "id": "LXxo5uD90Coi",
        "outputId": "0e1184bc-73e3-4857-e389-3c420df15d53"
      },
      "execution_count": 3,
      "outputs": [
        {
          "output_type": "stream",
          "name": "stdout",
          "text": [
            "Looking in indexes: https://pypi.org/simple, https://us-python.pkg.dev/colab-wheels/public/simple/\n",
            "Requirement already satisfied: kaggle in /usr/local/lib/python3.8/dist-packages (1.5.12)\n",
            "Requirement already satisfied: python-slugify in /usr/local/lib/python3.8/dist-packages (from kaggle) (7.0.0)\n",
            "Requirement already satisfied: six>=1.10 in /usr/local/lib/python3.8/dist-packages (from kaggle) (1.15.0)\n",
            "Requirement already satisfied: python-dateutil in /usr/local/lib/python3.8/dist-packages (from kaggle) (2.8.2)\n",
            "Requirement already satisfied: requests in /usr/local/lib/python3.8/dist-packages (from kaggle) (2.23.0)\n",
            "Requirement already satisfied: urllib3 in /usr/local/lib/python3.8/dist-packages (from kaggle) (1.24.3)\n",
            "Requirement already satisfied: certifi in /usr/local/lib/python3.8/dist-packages (from kaggle) (2022.12.7)\n",
            "Requirement already satisfied: tqdm in /usr/local/lib/python3.8/dist-packages (from kaggle) (4.64.1)\n",
            "Requirement already satisfied: text-unidecode>=1.3 in /usr/local/lib/python3.8/dist-packages (from python-slugify->kaggle) (1.3)\n",
            "Requirement already satisfied: chardet<4,>=3.0.2 in /usr/local/lib/python3.8/dist-packages (from requests->kaggle) (3.0.4)\n",
            "Requirement already satisfied: idna<3,>=2.5 in /usr/local/lib/python3.8/dist-packages (from requests->kaggle) (2.10)\n",
            "mkdir: cannot create directory ‘/root/.kaggle’: File exists\n",
            "Downloading players_22.csv.zip to /content\n",
            "  0% 0.00/3.29M [00:00<?, ?B/s]\n",
            "100% 3.29M/3.29M [00:00<00:00, 119MB/s]\n",
            "Archive:  players_22.csv.zip\n",
            "  inflating: players_22.csv          \n"
          ]
        }
      ]
    },
    {
      "cell_type": "markdown",
      "source": [
        "## Imports"
      ],
      "metadata": {
        "id": "JxBtRHlZTos9"
      }
    },
    {
      "cell_type": "code",
      "source": [
        "import pandas as pd\n",
        "import random"
      ],
      "metadata": {
        "id": "GdmL8NzmyOHK"
      },
      "execution_count": 18,
      "outputs": []
    },
    {
      "cell_type": "markdown",
      "source": [
        "## Read data"
      ],
      "metadata": {
        "id": "kytn4QDTTvO8"
      }
    },
    {
      "cell_type": "code",
      "source": [
        "raw_data = pd.read_csv('/content/players_22.csv')\n",
        "raw_data.head(3)"
      ],
      "metadata": {
        "colab": {
          "base_uri": "https://localhost:8080/",
          "height": 393
        },
        "id": "TXmflsY4yOLf",
        "outputId": "8ab5240c-7bb4-47ea-befe-ef8ac9c6e3c2"
      },
      "execution_count": 19,
      "outputs": [
        {
          "output_type": "stream",
          "name": "stderr",
          "text": [
            "/usr/local/lib/python3.8/dist-packages/IPython/core/interactiveshell.py:3326: DtypeWarning: Columns (25,108) have mixed types.Specify dtype option on import or set low_memory=False.\n",
            "  exec(code_obj, self.user_global_ns, self.user_ns)\n"
          ]
        },
        {
          "output_type": "execute_result",
          "data": {
            "text/plain": [
              "   sofifa_id                                         player_url  \\\n",
              "0     158023  https://sofifa.com/player/158023/lionel-messi/...   \n",
              "1     188545  https://sofifa.com/player/188545/robert-lewand...   \n",
              "2      20801  https://sofifa.com/player/20801/c-ronaldo-dos-...   \n",
              "\n",
              "          short_name                            long_name player_positions  \\\n",
              "0           L. Messi       Lionel Andrés Messi Cuccittini       RW, ST, CF   \n",
              "1     R. Lewandowski                   Robert Lewandowski               ST   \n",
              "2  Cristiano Ronaldo  Cristiano Ronaldo dos Santos Aveiro           ST, LW   \n",
              "\n",
              "   overall  potential    value_eur  wage_eur  age  ...   lcb    cb   rcb  \\\n",
              "0       93         93   78000000.0  320000.0   34  ...  50+3  50+3  50+3   \n",
              "1       92         92  119500000.0  270000.0   32  ...  60+3  60+3  60+3   \n",
              "2       91         91   45000000.0  270000.0   36  ...  53+3  53+3  53+3   \n",
              "\n",
              "     rb    gk                                    player_face_url  \\\n",
              "0  61+3  19+3  https://cdn.sofifa.net/players/158/023/22_120.png   \n",
              "1  61+3  19+3  https://cdn.sofifa.net/players/188/545/22_120.png   \n",
              "2  60+3  20+3  https://cdn.sofifa.net/players/020/801/22_120.png   \n",
              "\n",
              "                            club_logo_url  \\\n",
              "0  https://cdn.sofifa.net/teams/73/60.png   \n",
              "1  https://cdn.sofifa.net/teams/21/60.png   \n",
              "2  https://cdn.sofifa.net/teams/11/60.png   \n",
              "\n",
              "                             club_flag_url  \\\n",
              "0      https://cdn.sofifa.net/flags/fr.png   \n",
              "1      https://cdn.sofifa.net/flags/de.png   \n",
              "2  https://cdn.sofifa.net/flags/gb-eng.png   \n",
              "\n",
              "                            nation_logo_url  \\\n",
              "0  https://cdn.sofifa.net/teams/1369/60.png   \n",
              "1  https://cdn.sofifa.net/teams/1353/60.png   \n",
              "2  https://cdn.sofifa.net/teams/1354/60.png   \n",
              "\n",
              "                       nation_flag_url  \n",
              "0  https://cdn.sofifa.net/flags/ar.png  \n",
              "1  https://cdn.sofifa.net/flags/pl.png  \n",
              "2  https://cdn.sofifa.net/flags/pt.png  \n",
              "\n",
              "[3 rows x 110 columns]"
            ],
            "text/html": [
              "\n",
              "  <div id=\"df-1e3fee0d-8b18-458f-989d-1f9517614635\">\n",
              "    <div class=\"colab-df-container\">\n",
              "      <div>\n",
              "<style scoped>\n",
              "    .dataframe tbody tr th:only-of-type {\n",
              "        vertical-align: middle;\n",
              "    }\n",
              "\n",
              "    .dataframe tbody tr th {\n",
              "        vertical-align: top;\n",
              "    }\n",
              "\n",
              "    .dataframe thead th {\n",
              "        text-align: right;\n",
              "    }\n",
              "</style>\n",
              "<table border=\"1\" class=\"dataframe\">\n",
              "  <thead>\n",
              "    <tr style=\"text-align: right;\">\n",
              "      <th></th>\n",
              "      <th>sofifa_id</th>\n",
              "      <th>player_url</th>\n",
              "      <th>short_name</th>\n",
              "      <th>long_name</th>\n",
              "      <th>player_positions</th>\n",
              "      <th>overall</th>\n",
              "      <th>potential</th>\n",
              "      <th>value_eur</th>\n",
              "      <th>wage_eur</th>\n",
              "      <th>age</th>\n",
              "      <th>...</th>\n",
              "      <th>lcb</th>\n",
              "      <th>cb</th>\n",
              "      <th>rcb</th>\n",
              "      <th>rb</th>\n",
              "      <th>gk</th>\n",
              "      <th>player_face_url</th>\n",
              "      <th>club_logo_url</th>\n",
              "      <th>club_flag_url</th>\n",
              "      <th>nation_logo_url</th>\n",
              "      <th>nation_flag_url</th>\n",
              "    </tr>\n",
              "  </thead>\n",
              "  <tbody>\n",
              "    <tr>\n",
              "      <th>0</th>\n",
              "      <td>158023</td>\n",
              "      <td>https://sofifa.com/player/158023/lionel-messi/...</td>\n",
              "      <td>L. Messi</td>\n",
              "      <td>Lionel Andrés Messi Cuccittini</td>\n",
              "      <td>RW, ST, CF</td>\n",
              "      <td>93</td>\n",
              "      <td>93</td>\n",
              "      <td>78000000.0</td>\n",
              "      <td>320000.0</td>\n",
              "      <td>34</td>\n",
              "      <td>...</td>\n",
              "      <td>50+3</td>\n",
              "      <td>50+3</td>\n",
              "      <td>50+3</td>\n",
              "      <td>61+3</td>\n",
              "      <td>19+3</td>\n",
              "      <td>https://cdn.sofifa.net/players/158/023/22_120.png</td>\n",
              "      <td>https://cdn.sofifa.net/teams/73/60.png</td>\n",
              "      <td>https://cdn.sofifa.net/flags/fr.png</td>\n",
              "      <td>https://cdn.sofifa.net/teams/1369/60.png</td>\n",
              "      <td>https://cdn.sofifa.net/flags/ar.png</td>\n",
              "    </tr>\n",
              "    <tr>\n",
              "      <th>1</th>\n",
              "      <td>188545</td>\n",
              "      <td>https://sofifa.com/player/188545/robert-lewand...</td>\n",
              "      <td>R. Lewandowski</td>\n",
              "      <td>Robert Lewandowski</td>\n",
              "      <td>ST</td>\n",
              "      <td>92</td>\n",
              "      <td>92</td>\n",
              "      <td>119500000.0</td>\n",
              "      <td>270000.0</td>\n",
              "      <td>32</td>\n",
              "      <td>...</td>\n",
              "      <td>60+3</td>\n",
              "      <td>60+3</td>\n",
              "      <td>60+3</td>\n",
              "      <td>61+3</td>\n",
              "      <td>19+3</td>\n",
              "      <td>https://cdn.sofifa.net/players/188/545/22_120.png</td>\n",
              "      <td>https://cdn.sofifa.net/teams/21/60.png</td>\n",
              "      <td>https://cdn.sofifa.net/flags/de.png</td>\n",
              "      <td>https://cdn.sofifa.net/teams/1353/60.png</td>\n",
              "      <td>https://cdn.sofifa.net/flags/pl.png</td>\n",
              "    </tr>\n",
              "    <tr>\n",
              "      <th>2</th>\n",
              "      <td>20801</td>\n",
              "      <td>https://sofifa.com/player/20801/c-ronaldo-dos-...</td>\n",
              "      <td>Cristiano Ronaldo</td>\n",
              "      <td>Cristiano Ronaldo dos Santos Aveiro</td>\n",
              "      <td>ST, LW</td>\n",
              "      <td>91</td>\n",
              "      <td>91</td>\n",
              "      <td>45000000.0</td>\n",
              "      <td>270000.0</td>\n",
              "      <td>36</td>\n",
              "      <td>...</td>\n",
              "      <td>53+3</td>\n",
              "      <td>53+3</td>\n",
              "      <td>53+3</td>\n",
              "      <td>60+3</td>\n",
              "      <td>20+3</td>\n",
              "      <td>https://cdn.sofifa.net/players/020/801/22_120.png</td>\n",
              "      <td>https://cdn.sofifa.net/teams/11/60.png</td>\n",
              "      <td>https://cdn.sofifa.net/flags/gb-eng.png</td>\n",
              "      <td>https://cdn.sofifa.net/teams/1354/60.png</td>\n",
              "      <td>https://cdn.sofifa.net/flags/pt.png</td>\n",
              "    </tr>\n",
              "  </tbody>\n",
              "</table>\n",
              "<p>3 rows × 110 columns</p>\n",
              "</div>\n",
              "      <button class=\"colab-df-convert\" onclick=\"convertToInteractive('df-1e3fee0d-8b18-458f-989d-1f9517614635')\"\n",
              "              title=\"Convert this dataframe to an interactive table.\"\n",
              "              style=\"display:none;\">\n",
              "        \n",
              "  <svg xmlns=\"http://www.w3.org/2000/svg\" height=\"24px\"viewBox=\"0 0 24 24\"\n",
              "       width=\"24px\">\n",
              "    <path d=\"M0 0h24v24H0V0z\" fill=\"none\"/>\n",
              "    <path d=\"M18.56 5.44l.94 2.06.94-2.06 2.06-.94-2.06-.94-.94-2.06-.94 2.06-2.06.94zm-11 1L8.5 8.5l.94-2.06 2.06-.94-2.06-.94L8.5 2.5l-.94 2.06-2.06.94zm10 10l.94 2.06.94-2.06 2.06-.94-2.06-.94-.94-2.06-.94 2.06-2.06.94z\"/><path d=\"M17.41 7.96l-1.37-1.37c-.4-.4-.92-.59-1.43-.59-.52 0-1.04.2-1.43.59L10.3 9.45l-7.72 7.72c-.78.78-.78 2.05 0 2.83L4 21.41c.39.39.9.59 1.41.59.51 0 1.02-.2 1.41-.59l7.78-7.78 2.81-2.81c.8-.78.8-2.07 0-2.86zM5.41 20L4 18.59l7.72-7.72 1.47 1.35L5.41 20z\"/>\n",
              "  </svg>\n",
              "      </button>\n",
              "      \n",
              "  <style>\n",
              "    .colab-df-container {\n",
              "      display:flex;\n",
              "      flex-wrap:wrap;\n",
              "      gap: 12px;\n",
              "    }\n",
              "\n",
              "    .colab-df-convert {\n",
              "      background-color: #E8F0FE;\n",
              "      border: none;\n",
              "      border-radius: 50%;\n",
              "      cursor: pointer;\n",
              "      display: none;\n",
              "      fill: #1967D2;\n",
              "      height: 32px;\n",
              "      padding: 0 0 0 0;\n",
              "      width: 32px;\n",
              "    }\n",
              "\n",
              "    .colab-df-convert:hover {\n",
              "      background-color: #E2EBFA;\n",
              "      box-shadow: 0px 1px 2px rgba(60, 64, 67, 0.3), 0px 1px 3px 1px rgba(60, 64, 67, 0.15);\n",
              "      fill: #174EA6;\n",
              "    }\n",
              "\n",
              "    [theme=dark] .colab-df-convert {\n",
              "      background-color: #3B4455;\n",
              "      fill: #D2E3FC;\n",
              "    }\n",
              "\n",
              "    [theme=dark] .colab-df-convert:hover {\n",
              "      background-color: #434B5C;\n",
              "      box-shadow: 0px 1px 3px 1px rgba(0, 0, 0, 0.15);\n",
              "      filter: drop-shadow(0px 1px 2px rgba(0, 0, 0, 0.3));\n",
              "      fill: #FFFFFF;\n",
              "    }\n",
              "  </style>\n",
              "\n",
              "      <script>\n",
              "        const buttonEl =\n",
              "          document.querySelector('#df-1e3fee0d-8b18-458f-989d-1f9517614635 button.colab-df-convert');\n",
              "        buttonEl.style.display =\n",
              "          google.colab.kernel.accessAllowed ? 'block' : 'none';\n",
              "\n",
              "        async function convertToInteractive(key) {\n",
              "          const element = document.querySelector('#df-1e3fee0d-8b18-458f-989d-1f9517614635');\n",
              "          const dataTable =\n",
              "            await google.colab.kernel.invokeFunction('convertToInteractive',\n",
              "                                                     [key], {});\n",
              "          if (!dataTable) return;\n",
              "\n",
              "          const docLinkHtml = 'Like what you see? Visit the ' +\n",
              "            '<a target=\"_blank\" href=https://colab.research.google.com/notebooks/data_table.ipynb>data table notebook</a>'\n",
              "            + ' to learn more about interactive tables.';\n",
              "          element.innerHTML = '';\n",
              "          dataTable['output_type'] = 'display_data';\n",
              "          await google.colab.output.renderOutput(dataTable, element);\n",
              "          const docLink = document.createElement('div');\n",
              "          docLink.innerHTML = docLinkHtml;\n",
              "          element.appendChild(docLink);\n",
              "        }\n",
              "      </script>\n",
              "    </div>\n",
              "  </div>\n",
              "  "
            ]
          },
          "metadata": {},
          "execution_count": 19
        }
      ]
    },
    {
      "cell_type": "code",
      "source": [
        "[*raw_data.columns]"
      ],
      "metadata": {
        "colab": {
          "base_uri": "https://localhost:8080/"
        },
        "id": "KtRVrG0IyOPY",
        "outputId": "1feeda62-2e48-4e98-8cce-a5066b9c6f86"
      },
      "execution_count": 6,
      "outputs": [
        {
          "output_type": "execute_result",
          "data": {
            "text/plain": [
              "['sofifa_id',\n",
              " 'player_url',\n",
              " 'short_name',\n",
              " 'long_name',\n",
              " 'player_positions',\n",
              " 'overall',\n",
              " 'potential',\n",
              " 'value_eur',\n",
              " 'wage_eur',\n",
              " 'age',\n",
              " 'dob',\n",
              " 'height_cm',\n",
              " 'weight_kg',\n",
              " 'club_team_id',\n",
              " 'club_name',\n",
              " 'league_name',\n",
              " 'league_level',\n",
              " 'club_position',\n",
              " 'club_jersey_number',\n",
              " 'club_loaned_from',\n",
              " 'club_joined',\n",
              " 'club_contract_valid_until',\n",
              " 'nationality_id',\n",
              " 'nationality_name',\n",
              " 'nation_team_id',\n",
              " 'nation_position',\n",
              " 'nation_jersey_number',\n",
              " 'preferred_foot',\n",
              " 'weak_foot',\n",
              " 'skill_moves',\n",
              " 'international_reputation',\n",
              " 'work_rate',\n",
              " 'body_type',\n",
              " 'real_face',\n",
              " 'release_clause_eur',\n",
              " 'player_tags',\n",
              " 'player_traits',\n",
              " 'pace',\n",
              " 'shooting',\n",
              " 'passing',\n",
              " 'dribbling',\n",
              " 'defending',\n",
              " 'physic',\n",
              " 'attacking_crossing',\n",
              " 'attacking_finishing',\n",
              " 'attacking_heading_accuracy',\n",
              " 'attacking_short_passing',\n",
              " 'attacking_volleys',\n",
              " 'skill_dribbling',\n",
              " 'skill_curve',\n",
              " 'skill_fk_accuracy',\n",
              " 'skill_long_passing',\n",
              " 'skill_ball_control',\n",
              " 'movement_acceleration',\n",
              " 'movement_sprint_speed',\n",
              " 'movement_agility',\n",
              " 'movement_reactions',\n",
              " 'movement_balance',\n",
              " 'power_shot_power',\n",
              " 'power_jumping',\n",
              " 'power_stamina',\n",
              " 'power_strength',\n",
              " 'power_long_shots',\n",
              " 'mentality_aggression',\n",
              " 'mentality_interceptions',\n",
              " 'mentality_positioning',\n",
              " 'mentality_vision',\n",
              " 'mentality_penalties',\n",
              " 'mentality_composure',\n",
              " 'defending_marking_awareness',\n",
              " 'defending_standing_tackle',\n",
              " 'defending_sliding_tackle',\n",
              " 'goalkeeping_diving',\n",
              " 'goalkeeping_handling',\n",
              " 'goalkeeping_kicking',\n",
              " 'goalkeeping_positioning',\n",
              " 'goalkeeping_reflexes',\n",
              " 'goalkeeping_speed',\n",
              " 'ls',\n",
              " 'st',\n",
              " 'rs',\n",
              " 'lw',\n",
              " 'lf',\n",
              " 'cf',\n",
              " 'rf',\n",
              " 'rw',\n",
              " 'lam',\n",
              " 'cam',\n",
              " 'ram',\n",
              " 'lm',\n",
              " 'lcm',\n",
              " 'cm',\n",
              " 'rcm',\n",
              " 'rm',\n",
              " 'lwb',\n",
              " 'ldm',\n",
              " 'cdm',\n",
              " 'rdm',\n",
              " 'rwb',\n",
              " 'lb',\n",
              " 'lcb',\n",
              " 'cb',\n",
              " 'rcb',\n",
              " 'rb',\n",
              " 'gk',\n",
              " 'player_face_url',\n",
              " 'club_logo_url',\n",
              " 'club_flag_url',\n",
              " 'nation_logo_url',\n",
              " 'nation_flag_url']"
            ]
          },
          "metadata": {},
          "execution_count": 6
        }
      ]
    },
    {
      "cell_type": "markdown",
      "source": [
        "# Team creation and evaluation"
      ],
      "metadata": {
        "id": "OJKZQcABJq7f"
      }
    },
    {
      "cell_type": "markdown",
      "source": [
        "## Positions descriptions and evaluation"
      ],
      "metadata": {
        "id": "Tqg6u9SkJzTc"
      }
    },
    {
      "cell_type": "code",
      "source": [
        "skills = ['attacking_crossing', 'attacking_finishing', 'attacking_heading_accuracy', 'attacking_short_passing', 'attacking_volleys', \n",
        "          'skill_dribbling', 'skill_curve', 'skill_fk_accuracy', 'skill_long_passing', 'skill_ball_control',\n",
        "          'movement_acceleration', 'movement_sprint_speed', 'movement_agility', 'movement_reactions', 'movement_balance',\n",
        "          'power_shot_power', 'power_jumping', 'power_stamina', 'power_strength', 'power_long_shots',\n",
        "          'mentality_aggression', 'mentality_interceptions', 'mentality_positioning', 'mentality_vision', 'mentality_penalties', 'mentality_composure',\n",
        "          'defending_marking_awareness', 'defending_standing_tackle', 'defending_sliding_tackle',\n",
        "          'goalkeeping_diving', 'goalkeeping_handling', 'goalkeeping_kicking', 'goalkeeping_positioning', 'goalkeeping_reflexes', 'goalkeeping_speed']\n",
        "\n",
        "# these are of course arbitrary, but will do for our purposes\n",
        "skills_goalkeeper = ['goalkeeping_diving', 'goalkeeping_handling', 'goalkeeping_kicking', 'goalkeeping_positioning', 'goalkeeping_reflexes', 'goalkeeping_speed']\n",
        "skills_defender = ['movement_acceleration', 'defending_marking_awareness', 'defending_standing_tackle', 'defending_sliding_tackle', 'mentality_interceptions',\n",
        "                   'mentality_positioning', 'power_jumping', 'power_strength']\n",
        "skills_midfielder = ['attacking_short_passing', 'skill_long_passing', 'skill_ball_control', 'power_stamina', 'mentality_vision', 'movement_reactions']\n",
        "skills_winger = ['attacking_crossing', 'skill_dribbling', 'skill_ball_control', 'movement_acceleration', 'movement_sprint_speed', 'movement_agility']\n",
        "skills_attacker = ['attacking_finishing', 'attacking_heading_accuracy', 'skill_ball_control', 'movement_acceleration', 'power_shot_power', 'mentality_composure']"
      ],
      "metadata": {
        "id": "AnOdzsmKLAHd"
      },
      "execution_count": 7,
      "outputs": []
    },
    {
      "cell_type": "markdown",
      "source": [
        "## Player evaluation"
      ],
      "metadata": {
        "id": "GHzrfBhwOWBs"
      }
    },
    {
      "cell_type": "code",
      "source": [
        "import matplotlib.pyplot as plt"
      ],
      "metadata": {
        "id": "jmMIGLYtRy2K"
      },
      "execution_count": 8,
      "outputs": []
    },
    {
      "cell_type": "code",
      "source": [
        "def evaluate_player(sofifa_id, skillset):\n",
        "  skills = raw_data[raw_data.sofifa_id == sofifa_id][skillset]\n",
        "  return skills.fillna(0).values.mean()"
      ],
      "metadata": {
        "id": "678J6c2zOxdP"
      },
      "execution_count": 9,
      "outputs": []
    },
    {
      "cell_type": "code",
      "source": [
        "class Player():\n",
        "  def __init__(self, sofifa_id):\n",
        "    self.goalkeeper_skill = evaluate_player(sofifa_id, skills_goalkeeper)\n",
        "    self.defender_skill = evaluate_player(sofifa_id, skills_defender)\n",
        "    self.midfielder_skill = evaluate_player(sofifa_id, skills_midfielder)\n",
        "    self.winger_skill = evaluate_player(sofifa_id, skills_winger)\n",
        "    self.attacker_skill = evaluate_player(sofifa_id, skills_attacker)\n",
        "    self.name = raw_data[raw_data.sofifa_id == sofifa_id]['short_name'].iloc[0]\n",
        "  \n",
        "  def plot_skills(self):\n",
        "    skills = pd.Series({'goalkeeper':self.goalkeeper_skill,\n",
        "                           'defender':self.defender_skill,\n",
        "                           'midfielder':self.midfielder_skill,\n",
        "                           'winger':self.winger_skill,\n",
        "                           'attacker':self.attacker_skill})\n",
        "    plt.ylim(0, 100)\n",
        "    plt.title(self.name)\n",
        "    skills.plot(kind='bar')"
      ],
      "metadata": {
        "id": "sgXiPjMOOQ5v"
      },
      "execution_count": 10,
      "outputs": []
    },
    {
      "cell_type": "markdown",
      "source": [
        "## Teams"
      ],
      "metadata": {
        "id": "ePRBIvCgUDJJ"
      }
    },
    {
      "cell_type": "code",
      "source": [
        "import random\n",
        "import numpy as np"
      ],
      "metadata": {
        "id": "jqzvq-K3YfuK"
      },
      "execution_count": 11,
      "outputs": []
    },
    {
      "cell_type": "code",
      "execution_count": 100,
      "metadata": {
        "id": "jYWTTU8AxTnj",
        "colab": {
          "base_uri": "https://localhost:8080/",
          "height": 131
        },
        "outputId": "8fea2acb-db18-469e-fcee-e21d77fe80ae"
      },
      "outputs": [
        {
          "output_type": "error",
          "ename": "SyntaxError",
          "evalue": "ignored",
          "traceback": [
            "\u001b[0;36m  File \u001b[0;32m\"<ipython-input-100-755126d4a400>\"\u001b[0;36m, line \u001b[0;32m23\u001b[0m\n\u001b[0;31m    random.choice([self.goalkeeper, self.defender,\u001b[0m\n\u001b[0m    ^\u001b[0m\n\u001b[0;31mSyntaxError\u001b[0m\u001b[0;31m:\u001b[0m cannot assign to function call\n"
          ]
        }
      ],
      "source": [
        "class Team():\n",
        "  def __init__(self):\n",
        "    self.players = []\n",
        "  def recruit_players(self, sofifa_ids):\n",
        "    for sofifa_id in sofifa_ids:\n",
        "      new_player = Player(sofifa_id)\n",
        "      self.players.append(new_player)\n",
        "  def erase_team(self):\n",
        "    self.players = []\n",
        "  def random_assignment(self):\n",
        "    if len(self.players) < 5:\n",
        "      print('Team only has {} players, recruit {} more'.format(len(self.players), 5-len(self.players)))\n",
        "    else:\n",
        "      random_shuffle = random.sample(self.players, k=5)\n",
        "      self.goalkeeper = random_shuffle[0]\n",
        "      self.defender = random_shuffle[1]\n",
        "      self.midfielder = random_shuffle[2]\n",
        "      self.winger = random_shuffle[3]\n",
        "      self.attacker = random_shuffle[4]\n",
        "  def mutate(self, n_mutations=1, reshufle=True):\n",
        "    for i in range(n_mutations):\n",
        "      new_player_id = random.choice(list(raw_data.sofifa_id))\n",
        "      random.choice([self.goalkeeper, self.defender, self.winger,\n",
        "                   self.midfielder, self.attacker]) = Player(new_player_id)\n",
        "    # if reshufle:\n",
        "    #   self.random_assignment()\n",
        "  def display_team(self):\n",
        "    strength = pd.Series({'goalkeeper':self.goalkeeper.goalkeeper_skill,\n",
        "                          'defender':self.defender.defender_skill,\n",
        "                          'midfielder':self.midfielder.midfielder_skill,\n",
        "                          'winger':self.winger.winger_skill,\n",
        "                          'attacker':self.attacker.attacker_skill})\n",
        "    names = [self.goalkeeper.name, self.defender.name, self.midfielder.name,\n",
        "             self.winger.name, self.attacker.name]\n",
        "    plt.ylim(0, 100)\n",
        "    plt.title(\"Overall: \" + str(strength.mean()))\n",
        "    plt.bar(range(len(strength)), strength)\n",
        "    for i, v in enumerate(strength):\n",
        "      plt.text(i, v, str(names[i]), ha='center', va='bottom')\n",
        "    print(names)"
      ]
    },
    {
      "cell_type": "code",
      "source": [
        "team_x = Team()\n",
        "random_list = random.sample(list(raw_data.sofifa_id), 5)\n",
        "team_x.recruit_players(random_list)\n",
        "team_x.random_assignment()"
      ],
      "metadata": {
        "id": "TpfWnlJQWF0L"
      },
      "execution_count": 96,
      "outputs": []
    },
    {
      "cell_type": "code",
      "source": [
        "team_x.display_team()"
      ],
      "metadata": {
        "colab": {
          "base_uri": "https://localhost:8080/",
          "height": 298
        },
        "id": "oIZHo4hSa1WQ",
        "outputId": "c4c9636b-7dc0-451b-9f84-525caf0fcb69"
      },
      "execution_count": 97,
      "outputs": [
        {
          "output_type": "stream",
          "name": "stdout",
          "text": [
            "['P. Banggaard', 'M. Tosetti', 'D. Miya', 'L. Berry', 'O. Ülgün']\n"
          ]
        },
        {
          "output_type": "display_data",
          "data": {
            "text/plain": [
              "<Figure size 432x288 with 1 Axes>"
            ],
            "image/png": "[encoded data removed]"
          },
          "metadata": {
            "needs_background": "light"
          }
        }
      ]
    },
    {
      "cell_type": "code",
      "source": [
        "team_x.mutate(2)"
      ],
      "metadata": {
        "id": "Qv74iOTgW-4t"
      },
      "execution_count": 98,
      "outputs": []
    },
    {
      "cell_type": "code",
      "source": [
        "team_x.display_team()"
      ],
      "metadata": {
        "id": "mLd0mLlycWK4",
        "colab": {
          "base_uri": "https://localhost:8080/",
          "height": 298
        },
        "outputId": "79d9032d-05db-4c7e-a2a7-9c6b289caef6"
      },
      "execution_count": 99,
      "outputs": [
        {
          "output_type": "stream",
          "name": "stdout",
          "text": [
            "['P. Banggaard', 'M. Tosetti', 'D. Miya', 'L. Berry', 'O. Ülgün']\n"
          ]
        },
        {
          "output_type": "display_data",
          "data": {
            "text/plain": [
              "<Figure size 432x288 with 1 Axes>"
            ],
            "image/png": "[encoded data removed]"
          },
          "metadata": {
            "needs_background": "light"
          }
        }
      ]
    },
    {
      "cell_type": "code",
      "source": [],
      "metadata": {
        "id": "nUi9teA1cWGy"
      },
      "execution_count": null,
      "outputs": []
    },
    {
      "cell_type": "code",
      "source": [],
      "metadata": {
        "id": "ioC_XX3UcWCw"
      },
      "execution_count": null,
      "outputs": []
    },
    {
      "cell_type": "code",
      "source": [],
      "metadata": {
        "id": "t9n8OZLYcV-u"
      },
      "execution_count": null,
      "outputs": []
    },
    {
      "cell_type": "code",
      "source": [],
      "metadata": {
        "id": "z9cAJUpBcV6C"
      },
      "execution_count": null,
      "outputs": []
    }
  ]
}